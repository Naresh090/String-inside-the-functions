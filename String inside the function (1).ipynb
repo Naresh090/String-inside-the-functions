{
 "cells": [
  {
   "cell_type": "code",
   "execution_count": 1,
   "id": "979a82ed",
   "metadata": {},
   "outputs": [
    {
     "name": "stdout",
     "output_type": "stream",
     "text": [
      "1234abcd\n",
      "dcba4321\n"
     ]
    }
   ],
   "source": [
    "def reverse(str):\n",
    "    str1=''\n",
    "    index=len(str)\n",
    "    while index>0:\n",
    "        str1+=str[index-1]\n",
    "        index=index-1\n",
    "    return str1\n",
    "str=input()\n",
    "print(reverse(str))"
   ]
  },
  {
   "cell_type": "code",
   "execution_count": null,
   "id": "a369c491",
   "metadata": {},
   "outputs": [],
   "source": []
  },
  {
   "cell_type": "code",
   "execution_count": null,
   "id": "aace4345",
   "metadata": {},
   "outputs": [],
   "source": []
  }
 ],
 "metadata": {
  "kernelspec": {
   "display_name": "Python 3 (ipykernel)",
   "language": "python",
   "name": "python3"
  },
  "language_info": {
   "codemirror_mode": {
    "name": "ipython",
    "version": 3
   },
   "file_extension": ".py",
   "mimetype": "text/x-python",
   "name": "python",
   "nbconvert_exporter": "python",
   "pygments_lexer": "ipython3",
   "version": "3.10.9"
  }
 },
 "nbformat": 4,
 "nbformat_minor": 5
}
